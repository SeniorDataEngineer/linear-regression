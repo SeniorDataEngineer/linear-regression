{
 "metadata": {
  "language_info": {
   "codemirror_mode": {
    "name": "ipython",
    "version": 3
   },
   "file_extension": ".py",
   "mimetype": "text/x-python",
   "name": "python",
   "nbconvert_exporter": "python",
   "pygments_lexer": "ipython3",
   "version": "3.8.5-final"
  },
  "orig_nbformat": 2,
  "kernelspec": {
   "name": "python3",
   "display_name": "Python 3.8.5 64-bit ('venv-linear-regression': conda)",
   "metadata": {
    "interpreter": {
     "hash": "a0597e40e71254f204de5c0c7347015826ca94e569645ac68ed2815de4def0ac"
    }
   }
  }
 },
 "nbformat": 4,
 "nbformat_minor": 2,
 "cells": [
  {
   "source": [
    "# Binary classification by linear regression in Python"
   ],
   "cell_type": "markdown",
   "metadata": {}
  },
  {
   "source": [
    "### Overview\n",
    "Although linear regression is labelled as a regression technique it can be used for classification. In this demonstration I will use linear regression for binary classification.\n",
    "\n",
    "### Environment\n",
    "I implemented a solution in `Anaconda` environment with `Python 3.8.5` as this is essentially 'data-science'. This makes it possible to comparing my results to that of `sci-kit-learn`.\n",
    "\n",
    "### Terminology\n",
    "1. $y^{(i)}$; **true** (actual) class label.\n",
    "2. $\\hat{y}^{(i)}$; **predicted** class label.\n",
    "3. $x^{(i)}$; training example.\n",
    "4. $\\phi(z)$; decision function.\n",
    "5. $\\displaystyle\\sum_{j=0}^{m} x_j w_j$; linear algebra product of weights to sample-features.\n",
    "6. $\\Delta w_j = \\eta(y^{(i)} - \\hat{y}^{(i)})x_j$; difference in weight between epochs.\n",
    "\n",
    "### Algorithm pseudo-code\n",
    "1. Initialize weights $w$ to small random numbers.\n",
    "2. For each training sample $x^{(i)}$:  \n",
    "    a. Compute decision $\\phi(z)$ for output $\\hat{y}$  \n",
    "    b. Update weights; $w_j := w_j + \\Delta w_j$, and $\\Delta w_j$ is derived by; $\\Delta w_j = \\eta(y^{(i)} - \\hat{y}^{(i)})x_j$\n",
    "\n",
    "### Related Git\n",
    "https://dev.azure.com/Rose-Software-Ltd/_git/LinearRegressionPython"
   ],
   "cell_type": "markdown",
   "metadata": {}
  },
  {
   "source": [
    "## Demonstration setup\n",
    "Import my Python package components from `my_linear_regression` and instantiate a linear regressor for binary classification.\n",
    "\n",
    "1. `kwargs` has been defined for the `DataSplitter`, this will:  \n",
    "    a. Reduce the problem space to 2 classes.  \n",
    "    b. Define the problem space as ints.  \n"
   ],
   "cell_type": "markdown",
   "metadata": {}
  },
  {
   "cell_type": "code",
   "execution_count": 1,
   "metadata": {},
   "outputs": [],
   "source": [
    "#!/usr/bin/env python3.8.5\n",
    "# Copyright 2021, Rose Software Ltd, All rights reserved.\n",
    "\n",
    "# Project imports.\n",
    "from my_linear_regression.linear_regression import LinearRegressor\n",
    "from my_linear_regression.splitter.data_splitter import DATA_DIR as dir_\n",
    "\n",
    "# Third party imports.\n",
    "from matplotlib import pyplot as plot\n",
    "\n",
    "# Prepare instructions to split the file for binary classification.\n",
    "kwargs = {\n",
    "    'file_path': dir_,\n",
    "    'split': 0.4,\n",
    "    'cls_field': 'species',\n",
    "    'cls_space_size': 2,\n",
    "    'cls_to_keep': {'Iris-versicolor', 'Iris-setosa'}, # need method to remove class by name!\n",
    "    'y_seed': -1,\n",
    "    'y_interval': 2,\n",
    "    'prepare': True,\n",
    "}\n",
    "\n",
    "# Instantiate a Perceptron linear regressor.\n",
    "my_lr = LinearRegressor(**kwargs)\n"
   ]
  },
  {
   "source": [
    "## Check that the data frame looks ok\n",
    "1. Count the number of samples that remain after splitting the data frame.\n",
    "1. Inspect 2 samples $x^i$ from the bottom and the top of the splitter dataframe. Make sure that the integer representation of the class is included.\n",
    "1. Check that the data set class space has been reduced to 2 classes (as this is a binary classification demonstration).\n",
    "1. Check that there is a weight per feature, plus 1 for the bias."
   ],
   "cell_type": "markdown",
   "metadata": {}
  },
  {
   "cell_type": "code",
   "execution_count": 2,
   "metadata": {},
   "outputs": [
    {
     "output_type": "stream",
     "name": "stdout",
     "text": [
      "100\n"
     ]
    }
   ],
   "source": [
    "print(len(my_lr.splitter.data))"
   ]
  },
  {
   "cell_type": "code",
   "execution_count": 3,
   "metadata": {},
   "outputs": [
    {
     "output_type": "execute_result",
     "data": {
      "text/plain": [
       "     sepal_length  sepal_width  petal_length  petal_width         species  \\\n",
       "0             5.1          3.5           1.4          0.2     Iris-setosa   \n",
       "1             4.9          3.0           1.4          0.2     Iris-setosa   \n",
       "148           6.2          3.4           5.4          2.3  Iris-virginica   \n",
       "149           5.9          3.0           5.1          1.8  Iris-virginica   \n",
       "\n",
       "    class_int_rep  \n",
       "0               1  \n",
       "1               1  \n",
       "148            -1  \n",
       "149            -1  "
      ],
      "text/html": "<div>\n<style scoped>\n    .dataframe tbody tr th:only-of-type {\n        vertical-align: middle;\n    }\n\n    .dataframe tbody tr th {\n        vertical-align: top;\n    }\n\n    .dataframe thead th {\n        text-align: right;\n    }\n</style>\n<table border=\"1\" class=\"dataframe\">\n  <thead>\n    <tr style=\"text-align: right;\">\n      <th></th>\n      <th>sepal_length</th>\n      <th>sepal_width</th>\n      <th>petal_length</th>\n      <th>petal_width</th>\n      <th>species</th>\n      <th>class_int_rep</th>\n    </tr>\n  </thead>\n  <tbody>\n    <tr>\n      <th>0</th>\n      <td>5.1</td>\n      <td>3.5</td>\n      <td>1.4</td>\n      <td>0.2</td>\n      <td>Iris-setosa</td>\n      <td>1</td>\n    </tr>\n    <tr>\n      <th>1</th>\n      <td>4.9</td>\n      <td>3.0</td>\n      <td>1.4</td>\n      <td>0.2</td>\n      <td>Iris-setosa</td>\n      <td>1</td>\n    </tr>\n    <tr>\n      <th>148</th>\n      <td>6.2</td>\n      <td>3.4</td>\n      <td>5.4</td>\n      <td>2.3</td>\n      <td>Iris-virginica</td>\n      <td>-1</td>\n    </tr>\n    <tr>\n      <th>149</th>\n      <td>5.9</td>\n      <td>3.0</td>\n      <td>5.1</td>\n      <td>1.8</td>\n      <td>Iris-virginica</td>\n      <td>-1</td>\n    </tr>\n  </tbody>\n</table>\n</div>"
     },
     "metadata": {},
     "execution_count": 3
    }
   ],
   "source": [
    "my_lr.splitter.data.head(2).append(my_lr.splitter.data.tail(2))"
   ]
  },
  {
   "source": [],
   "cell_type": "markdown",
   "metadata": {}
  },
  {
   "cell_type": "code",
   "execution_count": 4,
   "metadata": {},
   "outputs": [
    {
     "output_type": "stream",
     "name": "stdout",
     "text": [
      "{'Iris-virginica', 'Iris-setosa'}\n"
     ]
    }
   ],
   "source": [
    "print(set(my_lr.splitter.data['species']))"
   ]
  },
  {
   "cell_type": "code",
   "execution_count": 5,
   "metadata": {},
   "outputs": [
    {
     "output_type": "stream",
     "name": "stdout",
     "text": [
      "There are 5 weights in wi.\n"
     ]
    }
   ],
   "source": [
    "print(f\"There are {len(my_lr.weights)} weights in wi.\")"
   ]
  },
  {
   "source": [
    "## Plot the data frame to see if it can be solved by linear regression\n",
    "**Iris setosa** and **Iris-versicolour** are **linearly separable**, other groupings might not be."
   ],
   "cell_type": "markdown",
   "metadata": {}
  },
  {
   "cell_type": "code",
   "execution_count": 6,
   "metadata": {},
   "outputs": [
    {
     "output_type": "execute_result",
     "data": {
      "text/plain": [
       "<matplotlib.collections.PathCollection at 0x1a601607400>"
      ]
     },
     "metadata": {},
     "execution_count": 6
    },
    {
     "output_type": "display_data",
     "data": {
      "text/plain": "<Figure size 432x288 with 1 Axes>",
      "image/svg+xml": "<?xml version=\"1.0\" encoding=\"utf-8\" standalone=\"no\"?>\r\n<!DOCTYPE svg PUBLIC \"-//W3C//DTD SVG 1.1//EN\"\r\n  \"http://www.w3.org/Graphics/SVG/1.1/DTD/svg11.dtd\">\r\n<!-- Created with matplotlib (https://matplotlib.org/) -->\r\n<svg height=\"248.518125pt\" version=\"1.1\" viewBox=\"0 0 363.750426 248.518125\" width=\"363.750426pt\" xmlns=\"http://www.w3.org/2000/svg\" xmlns:xlink=\"http://www.w3.org/1999/xlink\">\r\n <metadata>\r\n  <rdf:RDF xmlns:cc=\"http://creativecommons.org/ns#\" xmlns:dc=\"http://purl.org/dc/elements/1.1/\" xmlns:rdf=\"http://www.w3.org/1999/02/22-rdf-syntax-ns#\">\r\n   <cc:Work>\r\n    <dc:type rdf:resource=\"http://purl.org/dc/dcmitype/StillImage\"/>\r\n    <dc:date>2021-01-26T12:14:21.348490</dc:date>\r\n    <dc:format>image/svg+xml</dc:format>\r\n    <dc:creator>\r\n     <cc:Agent>\r\n      <dc:title>Matplotlib v3.3.3, https://matplotlib.org/</dc:title>\r\n     </cc:Agent>\r\n    </dc:creator>\r\n   </cc:Work>\r\n  </rdf:RDF>\r\n </metadata>\r\n <defs>\r\n  <style type=\"text/css\">*{stroke-linecap:butt;stroke-linejoin:round;}</style>\r\n </defs>\r\n <g id=\"figure_1\">\r\n  <g id=\"patch_1\">\r\n   <path d=\"M 0 248.518125 \r\nL 363.750426 248.518125 \r\nL 363.750426 0 \r\nL 0 0 \r\nz\r\n\" style=\"fill:none;\"/>\r\n  </g>\r\n  <g id=\"axes_1\">\r\n   <g id=\"patch_2\">\r\n    <path d=\"M 20.5625 224.64 \r\nL 355.3625 224.64 \r\nL 355.3625 7.2 \r\nL 20.5625 7.2 \r\nz\r\n\" style=\"fill:#ffffff;\"/>\r\n   </g>\r\n   <g id=\"PathCollection_1\">\r\n    <defs>\r\n     <path d=\"M 0 3 \r\nC 0.795609 3 1.55874 2.683901 2.12132 2.12132 \r\nC 2.683901 1.55874 3 0.795609 3 0 \r\nC 3 -0.795609 2.683901 -1.55874 2.12132 -2.12132 \r\nC 1.55874 -2.683901 0.795609 -3 0 -3 \r\nC -0.795609 -3 -1.55874 -2.683901 -2.12132 -2.12132 \r\nC -2.683901 -1.55874 -3 -0.795609 -3 0 \r\nC -3 0.795609 -2.683901 1.55874 -2.12132 2.12132 \r\nC -1.55874 2.683901 -0.795609 3 0 3 \r\nz\r\n\" id=\"m93de2c8a9d\" style=\"stroke:#ffa500;\"/>\r\n    </defs>\r\n    <g clip-path=\"url(#p8bec2769ce)\">\r\n     <use style=\"fill:#ffa500;stroke:#ffa500;\" x=\"103.417045\" xlink:href=\"#m93de2c8a9d\" y=\"201.354823\"/>\r\n     <use style=\"fill:#ffa500;stroke:#ffa500;\" x=\"86.507955\" xlink:href=\"#m93de2c8a9d\" y=\"201.354823\"/>\r\n     <use style=\"fill:#ffa500;stroke:#ffa500;\" x=\"69.598864\" xlink:href=\"#m93de2c8a9d\" y=\"204.705208\"/>\r\n     <use style=\"fill:#ffa500;stroke:#ffa500;\" x=\"61.144318\" xlink:href=\"#m93de2c8a9d\" y=\"198.004438\"/>\r\n     <use style=\"fill:#ffa500;stroke:#ffa500;\" x=\"94.9625\" xlink:href=\"#m93de2c8a9d\" y=\"201.354823\"/>\r\n     <use style=\"fill:#ffa500;stroke:#ffa500;\" x=\"128.780682\" xlink:href=\"#m93de2c8a9d\" y=\"191.303667\"/>\r\n     <use style=\"fill:#ffa500;stroke:#ffa500;\" x=\"61.144318\" xlink:href=\"#m93de2c8a9d\" y=\"201.354823\"/>\r\n     <use style=\"fill:#ffa500;stroke:#ffa500;\" x=\"94.9625\" xlink:href=\"#m93de2c8a9d\" y=\"198.004438\"/>\r\n     <use style=\"fill:#ffa500;stroke:#ffa500;\" x=\"44.235227\" xlink:href=\"#m93de2c8a9d\" y=\"201.354823\"/>\r\n     <use style=\"fill:#ffa500;stroke:#ffa500;\" x=\"86.507955\" xlink:href=\"#m93de2c8a9d\" y=\"198.004438\"/>\r\n     <use style=\"fill:#ffa500;stroke:#ffa500;\" x=\"128.780682\" xlink:href=\"#m93de2c8a9d\" y=\"198.004438\"/>\r\n     <use style=\"fill:#ffa500;stroke:#ffa500;\" x=\"78.053409\" xlink:href=\"#m93de2c8a9d\" y=\"194.654052\"/>\r\n     <use style=\"fill:#ffa500;stroke:#ffa500;\" x=\"78.053409\" xlink:href=\"#m93de2c8a9d\" y=\"201.354823\"/>\r\n     <use style=\"fill:#ffa500;stroke:#ffa500;\" x=\"35.780682\" xlink:href=\"#m93de2c8a9d\" y=\"211.405978\"/>\r\n     <use style=\"fill:#ffa500;stroke:#ffa500;\" x=\"162.598864\" xlink:href=\"#m93de2c8a9d\" y=\"208.055593\"/>\r\n     <use style=\"fill:#ffa500;stroke:#ffa500;\" x=\"154.144318\" xlink:href=\"#m93de2c8a9d\" y=\"198.004438\"/>\r\n     <use style=\"fill:#ffa500;stroke:#ffa500;\" x=\"128.780682\" xlink:href=\"#m93de2c8a9d\" y=\"204.705208\"/>\r\n     <use style=\"fill:#ffa500;stroke:#ffa500;\" x=\"103.417045\" xlink:href=\"#m93de2c8a9d\" y=\"201.354823\"/>\r\n     <use style=\"fill:#ffa500;stroke:#ffa500;\" x=\"154.144318\" xlink:href=\"#m93de2c8a9d\" y=\"191.303667\"/>\r\n     <use style=\"fill:#ffa500;stroke:#ffa500;\" x=\"103.417045\" xlink:href=\"#m93de2c8a9d\" y=\"198.004438\"/>\r\n     <use style=\"fill:#ffa500;stroke:#ffa500;\" x=\"128.780682\" xlink:href=\"#m93de2c8a9d\" y=\"191.303667\"/>\r\n     <use style=\"fill:#ffa500;stroke:#ffa500;\" x=\"103.417045\" xlink:href=\"#m93de2c8a9d\" y=\"198.004438\"/>\r\n     <use style=\"fill:#ffa500;stroke:#ffa500;\" x=\"61.144318\" xlink:href=\"#m93de2c8a9d\" y=\"214.756364\"/>\r\n     <use style=\"fill:#ffa500;stroke:#ffa500;\" x=\"103.417045\" xlink:href=\"#m93de2c8a9d\" y=\"191.303667\"/>\r\n     <use style=\"fill:#ffa500;stroke:#ffa500;\" x=\"78.053409\" xlink:href=\"#m93de2c8a9d\" y=\"184.602897\"/>\r\n     <use style=\"fill:#ffa500;stroke:#ffa500;\" x=\"94.9625\" xlink:href=\"#m93de2c8a9d\" y=\"194.654052\"/>\r\n     <use style=\"fill:#ffa500;stroke:#ffa500;\" x=\"94.9625\" xlink:href=\"#m93de2c8a9d\" y=\"194.654052\"/>\r\n     <use style=\"fill:#ffa500;stroke:#ffa500;\" x=\"111.871591\" xlink:href=\"#m93de2c8a9d\" y=\"198.004438\"/>\r\n     <use style=\"fill:#ffa500;stroke:#ffa500;\" x=\"111.871591\" xlink:href=\"#m93de2c8a9d\" y=\"201.354823\"/>\r\n     <use style=\"fill:#ffa500;stroke:#ffa500;\" x=\"69.598864\" xlink:href=\"#m93de2c8a9d\" y=\"194.654052\"/>\r\n     <use style=\"fill:#ffa500;stroke:#ffa500;\" x=\"78.053409\" xlink:href=\"#m93de2c8a9d\" y=\"194.654052\"/>\r\n     <use style=\"fill:#ffa500;stroke:#ffa500;\" x=\"128.780682\" xlink:href=\"#m93de2c8a9d\" y=\"198.004438\"/>\r\n     <use style=\"fill:#ffa500;stroke:#ffa500;\" x=\"111.871591\" xlink:href=\"#m93de2c8a9d\" y=\"198.004438\"/>\r\n     <use style=\"fill:#ffa500;stroke:#ffa500;\" x=\"137.235227\" xlink:href=\"#m93de2c8a9d\" y=\"201.354823\"/>\r\n     <use style=\"fill:#ffa500;stroke:#ffa500;\" x=\"86.507955\" xlink:href=\"#m93de2c8a9d\" y=\"198.004438\"/>\r\n     <use style=\"fill:#ffa500;stroke:#ffa500;\" x=\"94.9625\" xlink:href=\"#m93de2c8a9d\" y=\"208.055593\"/>\r\n     <use style=\"fill:#ffa500;stroke:#ffa500;\" x=\"137.235227\" xlink:href=\"#m93de2c8a9d\" y=\"204.705208\"/>\r\n     <use style=\"fill:#ffa500;stroke:#ffa500;\" x=\"86.507955\" xlink:href=\"#m93de2c8a9d\" y=\"198.004438\"/>\r\n     <use style=\"fill:#ffa500;stroke:#ffa500;\" x=\"44.235227\" xlink:href=\"#m93de2c8a9d\" y=\"204.705208\"/>\r\n     <use style=\"fill:#ffa500;stroke:#ffa500;\" x=\"103.417045\" xlink:href=\"#m93de2c8a9d\" y=\"198.004438\"/>\r\n     <use style=\"fill:#ffa500;stroke:#ffa500;\" x=\"94.9625\" xlink:href=\"#m93de2c8a9d\" y=\"204.705208\"/>\r\n     <use style=\"fill:#ffa500;stroke:#ffa500;\" x=\"52.689773\" xlink:href=\"#m93de2c8a9d\" y=\"204.705208\"/>\r\n     <use style=\"fill:#ffa500;stroke:#ffa500;\" x=\"44.235227\" xlink:href=\"#m93de2c8a9d\" y=\"204.705208\"/>\r\n     <use style=\"fill:#ffa500;stroke:#ffa500;\" x=\"94.9625\" xlink:href=\"#m93de2c8a9d\" y=\"194.654052\"/>\r\n     <use style=\"fill:#ffa500;stroke:#ffa500;\" x=\"103.417045\" xlink:href=\"#m93de2c8a9d\" y=\"184.602897\"/>\r\n     <use style=\"fill:#ffa500;stroke:#ffa500;\" x=\"78.053409\" xlink:href=\"#m93de2c8a9d\" y=\"201.354823\"/>\r\n     <use style=\"fill:#ffa500;stroke:#ffa500;\" x=\"103.417045\" xlink:href=\"#m93de2c8a9d\" y=\"194.654052\"/>\r\n     <use style=\"fill:#ffa500;stroke:#ffa500;\" x=\"61.144318\" xlink:href=\"#m93de2c8a9d\" y=\"201.354823\"/>\r\n     <use style=\"fill:#ffa500;stroke:#ffa500;\" x=\"120.326136\" xlink:href=\"#m93de2c8a9d\" y=\"198.004438\"/>\r\n     <use style=\"fill:#ffa500;stroke:#ffa500;\" x=\"94.9625\" xlink:href=\"#m93de2c8a9d\" y=\"201.354823\"/>\r\n    </g>\r\n   </g>\r\n   <g id=\"PathCollection_2\">\r\n    <defs>\r\n     <path d=\"M -3 3 \r\nL 3 -3 \r\nM -3 -3 \r\nL 3 3 \r\n\" id=\"m9a75883f29\" style=\"stroke:#000000;stroke-width:1.5;\"/>\r\n    </defs>\r\n    <g clip-path=\"url(#p8bec2769ce)\">\r\n     <use style=\"stroke:#000000;stroke-width:1.5;\" x=\"204.871591\" xlink:href=\"#m9a75883f29\" y=\"47.237103\"/>\r\n     <use style=\"stroke:#000000;stroke-width:1.5;\" x=\"162.598864\" xlink:href=\"#m9a75883f29\" y=\"77.39057\"/>\r\n     <use style=\"stroke:#000000;stroke-width:1.5;\" x=\"272.507955\" xlink:href=\"#m9a75883f29\" y=\"50.587488\"/>\r\n     <use style=\"stroke:#000000;stroke-width:1.5;\" x=\"204.871591\" xlink:href=\"#m9a75883f29\" y=\"60.638644\"/>\r\n     <use style=\"stroke:#000000;stroke-width:1.5;\" x=\"221.780682\" xlink:href=\"#m9a75883f29\" y=\"53.937874\"/>\r\n     <use style=\"stroke:#000000;stroke-width:1.5;\" x=\"314.780682\" xlink:href=\"#m9a75883f29\" y=\"27.134792\"/>\r\n     <use style=\"stroke:#000000;stroke-width:1.5;\" x=\"86.507955\" xlink:href=\"#m9a75883f29\" y=\"97.492881\"/>\r\n     <use style=\"stroke:#000000;stroke-width:1.5;\" x=\"289.417045\" xlink:href=\"#m9a75883f29\" y=\"37.185948\"/>\r\n     <use style=\"stroke:#000000;stroke-width:1.5;\" x=\"238.689773\" xlink:href=\"#m9a75883f29\" y=\"53.937874\"/>\r\n     <use style=\"stroke:#000000;stroke-width:1.5;\" x=\"280.9625\" xlink:href=\"#m9a75883f29\" y=\"43.886718\"/>\r\n     <use style=\"stroke:#000000;stroke-width:1.5;\" x=\"221.780682\" xlink:href=\"#m9a75883f29\" y=\"77.39057\"/>\r\n     <use style=\"stroke:#000000;stroke-width:1.5;\" x=\"213.326136\" xlink:href=\"#m9a75883f29\" y=\"70.6898\"/>\r\n     <use style=\"stroke:#000000;stroke-width:1.5;\" x=\"247.144318\" xlink:href=\"#m9a75883f29\" y=\"63.989029\"/>\r\n     <use style=\"stroke:#000000;stroke-width:1.5;\" x=\"154.144318\" xlink:href=\"#m9a75883f29\" y=\"80.740955\"/>\r\n     <use style=\"stroke:#000000;stroke-width:1.5;\" x=\"162.598864\" xlink:href=\"#m9a75883f29\" y=\"77.39057\"/>\r\n     <use style=\"stroke:#000000;stroke-width:1.5;\" x=\"213.326136\" xlink:href=\"#m9a75883f29\" y=\"70.6898\"/>\r\n     <use style=\"stroke:#000000;stroke-width:1.5;\" x=\"221.780682\" xlink:href=\"#m9a75883f29\" y=\"63.989029\"/>\r\n     <use style=\"stroke:#000000;stroke-width:1.5;\" x=\"323.235227\" xlink:href=\"#m9a75883f29\" y=\"23.784407\"/>\r\n     <use style=\"stroke:#000000;stroke-width:1.5;\" x=\"323.235227\" xlink:href=\"#m9a75883f29\" y=\"17.083636\"/>\r\n     <use style=\"stroke:#000000;stroke-width:1.5;\" x=\"179.507955\" xlink:href=\"#m9a75883f29\" y=\"80.740955\"/>\r\n     <use style=\"stroke:#000000;stroke-width:1.5;\" x=\"255.598864\" xlink:href=\"#m9a75883f29\" y=\"57.288259\"/>\r\n     <use style=\"stroke:#000000;stroke-width:1.5;\" x=\"145.689773\" xlink:href=\"#m9a75883f29\" y=\"84.091341\"/>\r\n     <use style=\"stroke:#000000;stroke-width:1.5;\" x=\"323.235227\" xlink:href=\"#m9a75883f29\" y=\"23.784407\"/>\r\n     <use style=\"stroke:#000000;stroke-width:1.5;\" x=\"204.871591\" xlink:href=\"#m9a75883f29\" y=\"84.091341\"/>\r\n     <use style=\"stroke:#000000;stroke-width:1.5;\" x=\"238.689773\" xlink:href=\"#m9a75883f29\" y=\"57.288259\"/>\r\n     <use style=\"stroke:#000000;stroke-width:1.5;\" x=\"280.9625\" xlink:href=\"#m9a75883f29\" y=\"47.237103\"/>\r\n     <use style=\"stroke:#000000;stroke-width:1.5;\" x=\"196.417045\" xlink:href=\"#m9a75883f29\" y=\"87.441726\"/>\r\n     <use style=\"stroke:#000000;stroke-width:1.5;\" x=\"187.9625\" xlink:href=\"#m9a75883f29\" y=\"84.091341\"/>\r\n     <use style=\"stroke:#000000;stroke-width:1.5;\" x=\"213.326136\" xlink:href=\"#m9a75883f29\" y=\"60.638644\"/>\r\n     <use style=\"stroke:#000000;stroke-width:1.5;\" x=\"280.9625\" xlink:href=\"#m9a75883f29\" y=\"53.937874\"/>\r\n     <use style=\"stroke:#000000;stroke-width:1.5;\" x=\"297.871591\" xlink:href=\"#m9a75883f29\" y=\"43.886718\"/>\r\n     <use style=\"stroke:#000000;stroke-width:1.5;\" x=\"340.144318\" xlink:href=\"#m9a75883f29\" y=\"33.835562\"/>\r\n     <use style=\"stroke:#000000;stroke-width:1.5;\" x=\"213.326136\" xlink:href=\"#m9a75883f29\" y=\"60.638644\"/>\r\n     <use style=\"stroke:#000000;stroke-width:1.5;\" x=\"204.871591\" xlink:href=\"#m9a75883f29\" y=\"77.39057\"/>\r\n     <use style=\"stroke:#000000;stroke-width:1.5;\" x=\"187.9625\" xlink:href=\"#m9a75883f29\" y=\"60.638644\"/>\r\n     <use style=\"stroke:#000000;stroke-width:1.5;\" x=\"323.235227\" xlink:href=\"#m9a75883f29\" y=\"43.886718\"/>\r\n     <use style=\"stroke:#000000;stroke-width:1.5;\" x=\"204.871591\" xlink:href=\"#m9a75883f29\" y=\"60.638644\"/>\r\n     <use style=\"stroke:#000000;stroke-width:1.5;\" x=\"213.326136\" xlink:href=\"#m9a75883f29\" y=\"63.989029\"/>\r\n     <use style=\"stroke:#000000;stroke-width:1.5;\" x=\"179.507955\" xlink:href=\"#m9a75883f29\" y=\"87.441726\"/>\r\n     <use style=\"stroke:#000000;stroke-width:1.5;\" x=\"255.598864\" xlink:href=\"#m9a75883f29\" y=\"67.339414\"/>\r\n     <use style=\"stroke:#000000;stroke-width:1.5;\" x=\"238.689773\" xlink:href=\"#m9a75883f29\" y=\"60.638644\"/>\r\n     <use style=\"stroke:#000000;stroke-width:1.5;\" x=\"255.598864\" xlink:href=\"#m9a75883f29\" y=\"77.39057\"/>\r\n     <use style=\"stroke:#000000;stroke-width:1.5;\" x=\"162.598864\" xlink:href=\"#m9a75883f29\" y=\"77.39057\"/>\r\n     <use style=\"stroke:#000000;stroke-width:1.5;\" x=\"247.144318\" xlink:href=\"#m9a75883f29\" y=\"50.587488\"/>\r\n     <use style=\"stroke:#000000;stroke-width:1.5;\" x=\"238.689773\" xlink:href=\"#m9a75883f29\" y=\"57.288259\"/>\r\n     <use style=\"stroke:#000000;stroke-width:1.5;\" x=\"238.689773\" xlink:href=\"#m9a75883f29\" y=\"74.040185\"/>\r\n     <use style=\"stroke:#000000;stroke-width:1.5;\" x=\"204.871591\" xlink:href=\"#m9a75883f29\" y=\"80.740955\"/>\r\n     <use style=\"stroke:#000000;stroke-width:1.5;\" x=\"221.780682\" xlink:href=\"#m9a75883f29\" y=\"74.040185\"/>\r\n     <use style=\"stroke:#000000;stroke-width:1.5;\" x=\"196.417045\" xlink:href=\"#m9a75883f29\" y=\"67.339414\"/>\r\n     <use style=\"stroke:#000000;stroke-width:1.5;\" x=\"171.053409\" xlink:href=\"#m9a75883f29\" y=\"77.39057\"/>\r\n    </g>\r\n   </g>\r\n   <g id=\"matplotlib.axis_1\">\r\n    <g id=\"xtick_1\">\r\n     <g id=\"line2d_1\">\r\n      <defs>\r\n       <path d=\"M 0 0 \r\nL 0 3.5 \r\n\" id=\"mef0bc3ca8e\" style=\"stroke:#000000;stroke-width:0.8;\"/>\r\n      </defs>\r\n      <g>\r\n       <use style=\"stroke:#000000;stroke-width:0.8;\" x=\"52.689773\" xlink:href=\"#mef0bc3ca8e\" y=\"224.64\"/>\r\n      </g>\r\n     </g>\r\n     <g id=\"text_1\">\r\n      <!-- 4.5 -->\r\n      <g transform=\"translate(44.73821 239.238437)scale(0.1 -0.1)\">\r\n       <defs>\r\n        <path d=\"M 37.796875 64.3125 \r\nL 12.890625 25.390625 \r\nL 37.796875 25.390625 \r\nz\r\nM 35.203125 72.90625 \r\nL 47.609375 72.90625 \r\nL 47.609375 25.390625 \r\nL 58.015625 25.390625 \r\nL 58.015625 17.1875 \r\nL 47.609375 17.1875 \r\nL 47.609375 0 \r\nL 37.796875 0 \r\nL 37.796875 17.1875 \r\nL 4.890625 17.1875 \r\nL 4.890625 26.703125 \r\nz\r\n\" id=\"DejaVuSans-52\"/>\r\n        <path d=\"M 10.6875 12.40625 \r\nL 21 12.40625 \r\nL 21 0 \r\nL 10.6875 0 \r\nz\r\n\" id=\"DejaVuSans-46\"/>\r\n        <path d=\"M 10.796875 72.90625 \r\nL 49.515625 72.90625 \r\nL 49.515625 64.59375 \r\nL 19.828125 64.59375 \r\nL 19.828125 46.734375 \r\nQ 21.96875 47.46875 24.109375 47.828125 \r\nQ 26.265625 48.1875 28.421875 48.1875 \r\nQ 40.625 48.1875 47.75 41.5 \r\nQ 54.890625 34.8125 54.890625 23.390625 \r\nQ 54.890625 11.625 47.5625 5.09375 \r\nQ 40.234375 -1.421875 26.90625 -1.421875 \r\nQ 22.3125 -1.421875 17.546875 -0.640625 \r\nQ 12.796875 0.140625 7.71875 1.703125 \r\nL 7.71875 11.625 \r\nQ 12.109375 9.234375 16.796875 8.0625 \r\nQ 21.484375 6.890625 26.703125 6.890625 \r\nQ 35.15625 6.890625 40.078125 11.328125 \r\nQ 45.015625 15.765625 45.015625 23.390625 \r\nQ 45.015625 31 40.078125 35.4375 \r\nQ 35.15625 39.890625 26.703125 39.890625 \r\nQ 22.75 39.890625 18.8125 39.015625 \r\nQ 14.890625 38.140625 10.796875 36.28125 \r\nz\r\n\" id=\"DejaVuSans-53\"/>\r\n       </defs>\r\n       <use xlink:href=\"#DejaVuSans-52\"/>\r\n       <use x=\"63.623047\" xlink:href=\"#DejaVuSans-46\"/>\r\n       <use x=\"95.410156\" xlink:href=\"#DejaVuSans-53\"/>\r\n      </g>\r\n     </g>\r\n    </g>\r\n    <g id=\"xtick_2\">\r\n     <g id=\"line2d_2\">\r\n      <g>\r\n       <use style=\"stroke:#000000;stroke-width:0.8;\" x=\"94.9625\" xlink:href=\"#mef0bc3ca8e\" y=\"224.64\"/>\r\n      </g>\r\n     </g>\r\n     <g id=\"text_2\">\r\n      <!-- 5.0 -->\r\n      <g transform=\"translate(87.010937 239.238437)scale(0.1 -0.1)\">\r\n       <defs>\r\n        <path d=\"M 31.78125 66.40625 \r\nQ 24.171875 66.40625 20.328125 58.90625 \r\nQ 16.5 51.421875 16.5 36.375 \r\nQ 16.5 21.390625 20.328125 13.890625 \r\nQ 24.171875 6.390625 31.78125 6.390625 \r\nQ 39.453125 6.390625 43.28125 13.890625 \r\nQ 47.125 21.390625 47.125 36.375 \r\nQ 47.125 51.421875 43.28125 58.90625 \r\nQ 39.453125 66.40625 31.78125 66.40625 \r\nz\r\nM 31.78125 74.21875 \r\nQ 44.046875 74.21875 50.515625 64.515625 \r\nQ 56.984375 54.828125 56.984375 36.375 \r\nQ 56.984375 17.96875 50.515625 8.265625 \r\nQ 44.046875 -1.421875 31.78125 -1.421875 \r\nQ 19.53125 -1.421875 13.0625 8.265625 \r\nQ 6.59375 17.96875 6.59375 36.375 \r\nQ 6.59375 54.828125 13.0625 64.515625 \r\nQ 19.53125 74.21875 31.78125 74.21875 \r\nz\r\n\" id=\"DejaVuSans-48\"/>\r\n       </defs>\r\n       <use xlink:href=\"#DejaVuSans-53\"/>\r\n       <use x=\"63.623047\" xlink:href=\"#DejaVuSans-46\"/>\r\n       <use x=\"95.410156\" xlink:href=\"#DejaVuSans-48\"/>\r\n      </g>\r\n     </g>\r\n    </g>\r\n    <g id=\"xtick_3\">\r\n     <g id=\"line2d_3\">\r\n      <g>\r\n       <use style=\"stroke:#000000;stroke-width:0.8;\" x=\"137.235227\" xlink:href=\"#mef0bc3ca8e\" y=\"224.64\"/>\r\n      </g>\r\n     </g>\r\n     <g id=\"text_3\">\r\n      <!-- 5.5 -->\r\n      <g transform=\"translate(129.283665 239.238437)scale(0.1 -0.1)\">\r\n       <use xlink:href=\"#DejaVuSans-53\"/>\r\n       <use x=\"63.623047\" xlink:href=\"#DejaVuSans-46\"/>\r\n       <use x=\"95.410156\" xlink:href=\"#DejaVuSans-53\"/>\r\n      </g>\r\n     </g>\r\n    </g>\r\n    <g id=\"xtick_4\">\r\n     <g id=\"line2d_4\">\r\n      <g>\r\n       <use style=\"stroke:#000000;stroke-width:0.8;\" x=\"179.507955\" xlink:href=\"#mef0bc3ca8e\" y=\"224.64\"/>\r\n      </g>\r\n     </g>\r\n     <g id=\"text_4\">\r\n      <!-- 6.0 -->\r\n      <g transform=\"translate(171.556392 239.238437)scale(0.1 -0.1)\">\r\n       <defs>\r\n        <path d=\"M 33.015625 40.375 \r\nQ 26.375 40.375 22.484375 35.828125 \r\nQ 18.609375 31.296875 18.609375 23.390625 \r\nQ 18.609375 15.53125 22.484375 10.953125 \r\nQ 26.375 6.390625 33.015625 6.390625 \r\nQ 39.65625 6.390625 43.53125 10.953125 \r\nQ 47.40625 15.53125 47.40625 23.390625 \r\nQ 47.40625 31.296875 43.53125 35.828125 \r\nQ 39.65625 40.375 33.015625 40.375 \r\nz\r\nM 52.59375 71.296875 \r\nL 52.59375 62.3125 \r\nQ 48.875 64.0625 45.09375 64.984375 \r\nQ 41.3125 65.921875 37.59375 65.921875 \r\nQ 27.828125 65.921875 22.671875 59.328125 \r\nQ 17.53125 52.734375 16.796875 39.40625 \r\nQ 19.671875 43.65625 24.015625 45.921875 \r\nQ 28.375 48.1875 33.59375 48.1875 \r\nQ 44.578125 48.1875 50.953125 41.515625 \r\nQ 57.328125 34.859375 57.328125 23.390625 \r\nQ 57.328125 12.15625 50.6875 5.359375 \r\nQ 44.046875 -1.421875 33.015625 -1.421875 \r\nQ 20.359375 -1.421875 13.671875 8.265625 \r\nQ 6.984375 17.96875 6.984375 36.375 \r\nQ 6.984375 53.65625 15.1875 63.9375 \r\nQ 23.390625 74.21875 37.203125 74.21875 \r\nQ 40.921875 74.21875 44.703125 73.484375 \r\nQ 48.484375 72.75 52.59375 71.296875 \r\nz\r\n\" id=\"DejaVuSans-54\"/>\r\n       </defs>\r\n       <use xlink:href=\"#DejaVuSans-54\"/>\r\n       <use x=\"63.623047\" xlink:href=\"#DejaVuSans-46\"/>\r\n       <use x=\"95.410156\" xlink:href=\"#DejaVuSans-48\"/>\r\n      </g>\r\n     </g>\r\n    </g>\r\n    <g id=\"xtick_5\">\r\n     <g id=\"line2d_5\">\r\n      <g>\r\n       <use style=\"stroke:#000000;stroke-width:0.8;\" x=\"221.780682\" xlink:href=\"#mef0bc3ca8e\" y=\"224.64\"/>\r\n      </g>\r\n     </g>\r\n     <g id=\"text_5\">\r\n      <!-- 6.5 -->\r\n      <g transform=\"translate(213.829119 239.238437)scale(0.1 -0.1)\">\r\n       <use xlink:href=\"#DejaVuSans-54\"/>\r\n       <use x=\"63.623047\" xlink:href=\"#DejaVuSans-46\"/>\r\n       <use x=\"95.410156\" xlink:href=\"#DejaVuSans-53\"/>\r\n      </g>\r\n     </g>\r\n    </g>\r\n    <g id=\"xtick_6\">\r\n     <g id=\"line2d_6\">\r\n      <g>\r\n       <use style=\"stroke:#000000;stroke-width:0.8;\" x=\"264.053409\" xlink:href=\"#mef0bc3ca8e\" y=\"224.64\"/>\r\n      </g>\r\n     </g>\r\n     <g id=\"text_6\">\r\n      <!-- 7.0 -->\r\n      <g transform=\"translate(256.101847 239.238437)scale(0.1 -0.1)\">\r\n       <defs>\r\n        <path d=\"M 8.203125 72.90625 \r\nL 55.078125 72.90625 \r\nL 55.078125 68.703125 \r\nL 28.609375 0 \r\nL 18.3125 0 \r\nL 43.21875 64.59375 \r\nL 8.203125 64.59375 \r\nz\r\n\" id=\"DejaVuSans-55\"/>\r\n       </defs>\r\n       <use xlink:href=\"#DejaVuSans-55\"/>\r\n       <use x=\"63.623047\" xlink:href=\"#DejaVuSans-46\"/>\r\n       <use x=\"95.410156\" xlink:href=\"#DejaVuSans-48\"/>\r\n      </g>\r\n     </g>\r\n    </g>\r\n    <g id=\"xtick_7\">\r\n     <g id=\"line2d_7\">\r\n      <g>\r\n       <use style=\"stroke:#000000;stroke-width:0.8;\" x=\"306.326136\" xlink:href=\"#mef0bc3ca8e\" y=\"224.64\"/>\r\n      </g>\r\n     </g>\r\n     <g id=\"text_7\">\r\n      <!-- 7.5 -->\r\n      <g transform=\"translate(298.374574 239.238437)scale(0.1 -0.1)\">\r\n       <use xlink:href=\"#DejaVuSans-55\"/>\r\n       <use x=\"63.623047\" xlink:href=\"#DejaVuSans-46\"/>\r\n       <use x=\"95.410156\" xlink:href=\"#DejaVuSans-53\"/>\r\n      </g>\r\n     </g>\r\n    </g>\r\n    <g id=\"xtick_8\">\r\n     <g id=\"line2d_8\">\r\n      <g>\r\n       <use style=\"stroke:#000000;stroke-width:0.8;\" x=\"348.598864\" xlink:href=\"#mef0bc3ca8e\" y=\"224.64\"/>\r\n      </g>\r\n     </g>\r\n     <g id=\"text_8\">\r\n      <!-- 8.0 -->\r\n      <g transform=\"translate(340.647301 239.238437)scale(0.1 -0.1)\">\r\n       <defs>\r\n        <path d=\"M 31.78125 34.625 \r\nQ 24.75 34.625 20.71875 30.859375 \r\nQ 16.703125 27.09375 16.703125 20.515625 \r\nQ 16.703125 13.921875 20.71875 10.15625 \r\nQ 24.75 6.390625 31.78125 6.390625 \r\nQ 38.8125 6.390625 42.859375 10.171875 \r\nQ 46.921875 13.96875 46.921875 20.515625 \r\nQ 46.921875 27.09375 42.890625 30.859375 \r\nQ 38.875 34.625 31.78125 34.625 \r\nz\r\nM 21.921875 38.8125 \r\nQ 15.578125 40.375 12.03125 44.71875 \r\nQ 8.5 49.078125 8.5 55.328125 \r\nQ 8.5 64.0625 14.71875 69.140625 \r\nQ 20.953125 74.21875 31.78125 74.21875 \r\nQ 42.671875 74.21875 48.875 69.140625 \r\nQ 55.078125 64.0625 55.078125 55.328125 \r\nQ 55.078125 49.078125 51.53125 44.71875 \r\nQ 48 40.375 41.703125 38.8125 \r\nQ 48.828125 37.15625 52.796875 32.3125 \r\nQ 56.78125 27.484375 56.78125 20.515625 \r\nQ 56.78125 9.90625 50.3125 4.234375 \r\nQ 43.84375 -1.421875 31.78125 -1.421875 \r\nQ 19.734375 -1.421875 13.25 4.234375 \r\nQ 6.78125 9.90625 6.78125 20.515625 \r\nQ 6.78125 27.484375 10.78125 32.3125 \r\nQ 14.796875 37.15625 21.921875 38.8125 \r\nz\r\nM 18.3125 54.390625 \r\nQ 18.3125 48.734375 21.84375 45.5625 \r\nQ 25.390625 42.390625 31.78125 42.390625 \r\nQ 38.140625 42.390625 41.71875 45.5625 \r\nQ 45.3125 48.734375 45.3125 54.390625 \r\nQ 45.3125 60.0625 41.71875 63.234375 \r\nQ 38.140625 66.40625 31.78125 66.40625 \r\nQ 25.390625 66.40625 21.84375 63.234375 \r\nQ 18.3125 60.0625 18.3125 54.390625 \r\nz\r\n\" id=\"DejaVuSans-56\"/>\r\n       </defs>\r\n       <use xlink:href=\"#DejaVuSans-56\"/>\r\n       <use x=\"63.623047\" xlink:href=\"#DejaVuSans-46\"/>\r\n       <use x=\"95.410156\" xlink:href=\"#DejaVuSans-48\"/>\r\n      </g>\r\n     </g>\r\n    </g>\r\n   </g>\r\n   <g id=\"matplotlib.axis_2\">\r\n    <g id=\"ytick_1\">\r\n     <g id=\"line2d_9\">\r\n      <defs>\r\n       <path d=\"M 0 0 \r\nL -3.5 0 \r\n\" id=\"md268d92b4f\" style=\"stroke:#000000;stroke-width:0.8;\"/>\r\n      </defs>\r\n      <g>\r\n       <use style=\"stroke:#000000;stroke-width:0.8;\" x=\"20.5625\" xlink:href=\"#md268d92b4f\" y=\"214.756364\"/>\r\n      </g>\r\n     </g>\r\n     <g id=\"text_9\">\r\n      <!-- 1 -->\r\n      <g transform=\"translate(7.2 218.555582)scale(0.1 -0.1)\">\r\n       <defs>\r\n        <path d=\"M 12.40625 8.296875 \r\nL 28.515625 8.296875 \r\nL 28.515625 63.921875 \r\nL 10.984375 60.40625 \r\nL 10.984375 69.390625 \r\nL 28.421875 72.90625 \r\nL 38.28125 72.90625 \r\nL 38.28125 8.296875 \r\nL 54.390625 8.296875 \r\nL 54.390625 0 \r\nL 12.40625 0 \r\nz\r\n\" id=\"DejaVuSans-49\"/>\r\n       </defs>\r\n       <use xlink:href=\"#DejaVuSans-49\"/>\r\n      </g>\r\n     </g>\r\n    </g>\r\n    <g id=\"ytick_2\">\r\n     <g id=\"line2d_10\">\r\n      <g>\r\n       <use style=\"stroke:#000000;stroke-width:0.8;\" x=\"20.5625\" xlink:href=\"#md268d92b4f\" y=\"181.252512\"/>\r\n      </g>\r\n     </g>\r\n     <g id=\"text_10\">\r\n      <!-- 2 -->\r\n      <g transform=\"translate(7.2 185.05173)scale(0.1 -0.1)\">\r\n       <defs>\r\n        <path d=\"M 19.1875 8.296875 \r\nL 53.609375 8.296875 \r\nL 53.609375 0 \r\nL 7.328125 0 \r\nL 7.328125 8.296875 \r\nQ 12.9375 14.109375 22.625 23.890625 \r\nQ 32.328125 33.6875 34.8125 36.53125 \r\nQ 39.546875 41.84375 41.421875 45.53125 \r\nQ 43.3125 49.21875 43.3125 52.78125 \r\nQ 43.3125 58.59375 39.234375 62.25 \r\nQ 35.15625 65.921875 28.609375 65.921875 \r\nQ 23.96875 65.921875 18.8125 64.3125 \r\nQ 13.671875 62.703125 7.8125 59.421875 \r\nL 7.8125 69.390625 \r\nQ 13.765625 71.78125 18.9375 73 \r\nQ 24.125 74.21875 28.421875 74.21875 \r\nQ 39.75 74.21875 46.484375 68.546875 \r\nQ 53.21875 62.890625 53.21875 53.421875 \r\nQ 53.21875 48.921875 51.53125 44.890625 \r\nQ 49.859375 40.875 45.40625 35.40625 \r\nQ 44.1875 33.984375 37.640625 27.21875 \r\nQ 31.109375 20.453125 19.1875 8.296875 \r\nz\r\n\" id=\"DejaVuSans-50\"/>\r\n       </defs>\r\n       <use xlink:href=\"#DejaVuSans-50\"/>\r\n      </g>\r\n     </g>\r\n    </g>\r\n    <g id=\"ytick_3\">\r\n     <g id=\"line2d_11\">\r\n      <g>\r\n       <use style=\"stroke:#000000;stroke-width:0.8;\" x=\"20.5625\" xlink:href=\"#md268d92b4f\" y=\"147.748659\"/>\r\n      </g>\r\n     </g>\r\n     <g id=\"text_11\">\r\n      <!-- 3 -->\r\n      <g transform=\"translate(7.2 151.547878)scale(0.1 -0.1)\">\r\n       <defs>\r\n        <path d=\"M 40.578125 39.3125 \r\nQ 47.65625 37.796875 51.625 33 \r\nQ 55.609375 28.21875 55.609375 21.1875 \r\nQ 55.609375 10.40625 48.1875 4.484375 \r\nQ 40.765625 -1.421875 27.09375 -1.421875 \r\nQ 22.515625 -1.421875 17.65625 -0.515625 \r\nQ 12.796875 0.390625 7.625 2.203125 \r\nL 7.625 11.71875 \r\nQ 11.71875 9.328125 16.59375 8.109375 \r\nQ 21.484375 6.890625 26.8125 6.890625 \r\nQ 36.078125 6.890625 40.9375 10.546875 \r\nQ 45.796875 14.203125 45.796875 21.1875 \r\nQ 45.796875 27.640625 41.28125 31.265625 \r\nQ 36.765625 34.90625 28.71875 34.90625 \r\nL 20.21875 34.90625 \r\nL 20.21875 43.015625 \r\nL 29.109375 43.015625 \r\nQ 36.375 43.015625 40.234375 45.921875 \r\nQ 44.09375 48.828125 44.09375 54.296875 \r\nQ 44.09375 59.90625 40.109375 62.90625 \r\nQ 36.140625 65.921875 28.71875 65.921875 \r\nQ 24.65625 65.921875 20.015625 65.03125 \r\nQ 15.375 64.15625 9.8125 62.3125 \r\nL 9.8125 71.09375 \r\nQ 15.4375 72.65625 20.34375 73.4375 \r\nQ 25.25 74.21875 29.59375 74.21875 \r\nQ 40.828125 74.21875 47.359375 69.109375 \r\nQ 53.90625 64.015625 53.90625 55.328125 \r\nQ 53.90625 49.265625 50.4375 45.09375 \r\nQ 46.96875 40.921875 40.578125 39.3125 \r\nz\r\n\" id=\"DejaVuSans-51\"/>\r\n       </defs>\r\n       <use xlink:href=\"#DejaVuSans-51\"/>\r\n      </g>\r\n     </g>\r\n    </g>\r\n    <g id=\"ytick_4\">\r\n     <g id=\"line2d_12\">\r\n      <g>\r\n       <use style=\"stroke:#000000;stroke-width:0.8;\" x=\"20.5625\" xlink:href=\"#md268d92b4f\" y=\"114.244807\"/>\r\n      </g>\r\n     </g>\r\n     <g id=\"text_12\">\r\n      <!-- 4 -->\r\n      <g transform=\"translate(7.2 118.044026)scale(0.1 -0.1)\">\r\n       <use xlink:href=\"#DejaVuSans-52\"/>\r\n      </g>\r\n     </g>\r\n    </g>\r\n    <g id=\"ytick_5\">\r\n     <g id=\"line2d_13\">\r\n      <g>\r\n       <use style=\"stroke:#000000;stroke-width:0.8;\" x=\"20.5625\" xlink:href=\"#md268d92b4f\" y=\"80.740955\"/>\r\n      </g>\r\n     </g>\r\n     <g id=\"text_13\">\r\n      <!-- 5 -->\r\n      <g transform=\"translate(7.2 84.540174)scale(0.1 -0.1)\">\r\n       <use xlink:href=\"#DejaVuSans-53\"/>\r\n      </g>\r\n     </g>\r\n    </g>\r\n    <g id=\"ytick_6\">\r\n     <g id=\"line2d_14\">\r\n      <g>\r\n       <use style=\"stroke:#000000;stroke-width:0.8;\" x=\"20.5625\" xlink:href=\"#md268d92b4f\" y=\"47.237103\"/>\r\n      </g>\r\n     </g>\r\n     <g id=\"text_14\">\r\n      <!-- 6 -->\r\n      <g transform=\"translate(7.2 51.036322)scale(0.1 -0.1)\">\r\n       <use xlink:href=\"#DejaVuSans-54\"/>\r\n      </g>\r\n     </g>\r\n    </g>\r\n    <g id=\"ytick_7\">\r\n     <g id=\"line2d_15\">\r\n      <g>\r\n       <use style=\"stroke:#000000;stroke-width:0.8;\" x=\"20.5625\" xlink:href=\"#md268d92b4f\" y=\"13.733251\"/>\r\n      </g>\r\n     </g>\r\n     <g id=\"text_15\">\r\n      <!-- 7 -->\r\n      <g transform=\"translate(7.2 17.53247)scale(0.1 -0.1)\">\r\n       <use xlink:href=\"#DejaVuSans-55\"/>\r\n      </g>\r\n     </g>\r\n    </g>\r\n   </g>\r\n   <g id=\"patch_3\">\r\n    <path d=\"M 20.5625 224.64 \r\nL 20.5625 7.2 \r\n\" style=\"fill:none;stroke:#000000;stroke-linecap:square;stroke-linejoin:miter;stroke-width:0.8;\"/>\r\n   </g>\r\n   <g id=\"patch_4\">\r\n    <path d=\"M 355.3625 224.64 \r\nL 355.3625 7.2 \r\n\" style=\"fill:none;stroke:#000000;stroke-linecap:square;stroke-linejoin:miter;stroke-width:0.8;\"/>\r\n   </g>\r\n   <g id=\"patch_5\">\r\n    <path d=\"M 20.5625 224.64 \r\nL 355.3625 224.64 \r\n\" style=\"fill:none;stroke:#000000;stroke-linecap:square;stroke-linejoin:miter;stroke-width:0.8;\"/>\r\n   </g>\r\n   <g id=\"patch_6\">\r\n    <path d=\"M 20.5625 7.2 \r\nL 355.3625 7.2 \r\n\" style=\"fill:none;stroke:#000000;stroke-linecap:square;stroke-linejoin:miter;stroke-width:0.8;\"/>\r\n   </g>\r\n  </g>\r\n </g>\r\n <defs>\r\n  <clipPath id=\"p8bec2769ce\">\r\n   <rect height=\"217.44\" width=\"334.8\" x=\"20.5625\" y=\"7.2\"/>\r\n  </clipPath>\r\n </defs>\r\n</svg>\r\n",
      "image/png": "[encoded data removed]"
     },
     "metadata": {
      "needs_background": "light"
     }
    }
   ],
   "source": [
    "labels = my_lr.splitter.data.iloc[0: 100, 4].values\n",
    "X = my_lr.splitter.data.iloc[0: 100, [0,2]].values\n",
    "\n",
    "plot.scatter(x=X[:50, 0], y=X[:50, 1], color='orange', marker='o', label=labels[0])\n",
    "plot.scatter(x=X[50: 100, 0], y=X[50: 100, 1], color='black', marker='x', label=labels[-1])\n"
   ]
  },
  {
   "source": [
    "## Solving a binary classification problem\n"
   ],
   "cell_type": "markdown",
   "metadata": {}
  },
  {
   "cell_type": "code",
   "execution_count": 7,
   "metadata": {},
   "outputs": [
    {
     "output_type": "stream",
     "name": "stdout",
     "text": [
      "epoch 0\nerrors 0\nerror rate 0.0\nweights [-0.97254605  0.64196043  0.98689528  0.18461368  0.59003456]\nfunction f(x*T([-0.97254605  0.64196043  0.98689528  0.18461368  0.59003456])\n"
     ]
    }
   ],
   "source": [
    "# Train (fit) the model.\n",
    "my_lr.train_model()\n",
    "\n",
    "# Look at solutions.\n",
    "for report in my_lr.solutions:\n",
    "    for key, val in report.items():\n",
    "        print(key, val)\n",
    "\n"
   ]
  },
  {
   "cell_type": "code",
   "execution_count": 8,
   "metadata": {},
   "outputs": [
    {
     "output_type": "stream",
     "name": "stdout",
     "text": [
      "60\n['Iris-setosa' 1 True]\n['Iris-setosa' 1 True]\n['Iris-setosa' 1 True]\n['Iris-setosa' 1 True]\n['Iris-setosa' 1 True]\n['Iris-setosa' 1 True]\n['Iris-setosa' 1 True]\n['Iris-setosa' 1 True]\n['Iris-setosa' 1 True]\n['Iris-setosa' 1 True]\n['Iris-virginica' -1 True]\n['Iris-virginica' -1 True]\n['Iris-virginica' -1 True]\n['Iris-virginica' -1 True]\n['Iris-virginica' -1 True]\n['Iris-virginica' -1 True]\n['Iris-virginica' -1 True]\n['Iris-virginica' -1 True]\n['Iris-virginica' -1 True]\n['Iris-virginica' -1 True]\n['Iris-virginica' -1 True]\n['Iris-virginica' -1 True]\n['Iris-virginica' -1 True]\n['Iris-virginica' -1 True]\n['Iris-virginica' -1 True]\n['Iris-virginica' -1 True]\n['Iris-virginica' -1 True]\n['Iris-virginica' -1 True]\n['Iris-virginica' -1 True]\n['Iris-virginica' -1 True]\n['Iris-virginica' -1 True]\n['Iris-virginica' -1 True]\n['Iris-virginica' -1 True]\n['Iris-virginica' -1 True]\n['Iris-virginica' -1 True]\n['Iris-virginica' -1 True]\n['Iris-virginica' -1 True]\n['Iris-virginica' -1 True]\n['Iris-virginica' -1 True]\n['Iris-virginica' -1 True]\n['Iris-virginica' -1 True]\n['Iris-virginica' -1 True]\n['Iris-virginica' -1 True]\n['Iris-virginica' -1 True]\n['Iris-virginica' -1 True]\n['Iris-virginica' -1 True]\n['Iris-virginica' -1 True]\n['Iris-virginica' -1 True]\n['Iris-virginica' -1 True]\n['Iris-virginica' -1 True]\n['Iris-virginica' -1 True]\n['Iris-virginica' -1 True]\n['Iris-virginica' -1 True]\n['Iris-virginica' -1 True]\n['Iris-virginica' -1 True]\n['Iris-virginica' -1 True]\n['Iris-virginica' -1 True]\n['Iris-virginica' -1 True]\n['Iris-virginica' -1 True]\n['Iris-virginica' -1 True]\n"
     ]
    }
   ],
   "source": [
    "# Test solution.\n",
    "w, y = my_lr.test_model('Predicted-class')\n",
    "\n",
    "print(len(y))\n",
    "a = 0\n",
    "b = 0\n",
    "for x in y:\n",
    "    if x[0]='Iris-virginica':\n",
    "        a+=1\n",
    "    else:\n",
    "        b+=1\n",
    "\n",
    "print(a,b)"
   ]
  },
  {
   "cell_type": "code",
   "execution_count": null,
   "metadata": {},
   "outputs": [],
   "source": []
  }
 ]
}